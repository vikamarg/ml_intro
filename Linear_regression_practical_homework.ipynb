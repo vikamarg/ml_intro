{
 "cells": [
  {
   "cell_type": "code",
   "execution_count": 487,
   "metadata": {},
   "outputs": [],
   "source": [
    "import pandas as pd\n",
    "import matplotlib.pyplot as plt\n",
    "import numpy as np"
   ]
  },
  {
   "cell_type": "markdown",
   "metadata": {},
   "source": [
    "### Load the dataset from the file Ecommerce.csv"
   ]
  },
  {
   "cell_type": "markdown",
   "metadata": {},
   "source": [
    "```\n",
    "This dataset includes the following data for 200 online customers:\n",
    "\n",
    "- Email\n",
    "- Adress\n",
    "- Avatar\n",
    "- Avg Session Length (everage time they spent on usage)\n",
    "- Time on App (time they spent using the application)\n",
    "- Time on Website (time they spent using the website)\n",
    "- Length of Membership (for how long they have been a user)\n",
    "- Yearly Amount Spent (how much money they spend yearly)\n",
    "\n",
    "Yout goal will be to estimate the value of the Yearly Amount Spent using the feature(s) of the users\n",
    "```"
   ]
  },
  {
   "cell_type": "code",
   "execution_count": 488,
   "metadata": {},
   "outputs": [
    {
     "data": {
      "text/html": [
       "<div>\n",
       "<style scoped>\n",
       "    .dataframe tbody tr th:only-of-type {\n",
       "        vertical-align: middle;\n",
       "    }\n",
       "\n",
       "    .dataframe tbody tr th {\n",
       "        vertical-align: top;\n",
       "    }\n",
       "\n",
       "    .dataframe thead th {\n",
       "        text-align: right;\n",
       "    }\n",
       "</style>\n",
       "<table border=\"1\" class=\"dataframe\">\n",
       "  <thead>\n",
       "    <tr style=\"text-align: right;\">\n",
       "      <th></th>\n",
       "      <th>Email</th>\n",
       "      <th>Address</th>\n",
       "      <th>Avatar</th>\n",
       "      <th>Avg Session Length</th>\n",
       "      <th>Time on App</th>\n",
       "      <th>Time on Website</th>\n",
       "      <th>Length of Membership</th>\n",
       "      <th>Yearly Amount Spent</th>\n",
       "    </tr>\n",
       "  </thead>\n",
       "  <tbody>\n",
       "    <tr>\n",
       "      <th>0</th>\n",
       "      <td>mstephenson@fernandez.com</td>\n",
       "      <td>835 Frank TunnelWrightmouth, MI 82180-9605</td>\n",
       "      <td>Violet</td>\n",
       "      <td>34.497268</td>\n",
       "      <td>12.655651</td>\n",
       "      <td>39.577668</td>\n",
       "      <td>4.082621</td>\n",
       "      <td>587.951054</td>\n",
       "    </tr>\n",
       "    <tr>\n",
       "      <th>1</th>\n",
       "      <td>hduke@hotmail.com</td>\n",
       "      <td>4547 Archer CommonDiazchester, CA 06566-8576</td>\n",
       "      <td>DarkGreen</td>\n",
       "      <td>31.926272</td>\n",
       "      <td>11.109461</td>\n",
       "      <td>37.268959</td>\n",
       "      <td>2.664034</td>\n",
       "      <td>392.204933</td>\n",
       "    </tr>\n",
       "    <tr>\n",
       "      <th>2</th>\n",
       "      <td>pallen@yahoo.com</td>\n",
       "      <td>24645 Valerie Unions Suite 582Cobbborough, DC ...</td>\n",
       "      <td>Bisque</td>\n",
       "      <td>33.000915</td>\n",
       "      <td>11.330278</td>\n",
       "      <td>37.110597</td>\n",
       "      <td>4.104543</td>\n",
       "      <td>487.547505</td>\n",
       "    </tr>\n",
       "    <tr>\n",
       "      <th>3</th>\n",
       "      <td>riverarebecca@gmail.com</td>\n",
       "      <td>1414 David ThroughwayPort Jason, OH 22070-1220</td>\n",
       "      <td>SaddleBrown</td>\n",
       "      <td>34.305557</td>\n",
       "      <td>13.717514</td>\n",
       "      <td>36.721283</td>\n",
       "      <td>3.120179</td>\n",
       "      <td>581.852344</td>\n",
       "    </tr>\n",
       "    <tr>\n",
       "      <th>4</th>\n",
       "      <td>mstephens@davidson-herman.com</td>\n",
       "      <td>14023 Rodriguez PassagePort Jacobville, PR 372...</td>\n",
       "      <td>MediumAquaMarine</td>\n",
       "      <td>33.330673</td>\n",
       "      <td>12.795189</td>\n",
       "      <td>37.536653</td>\n",
       "      <td>4.446308</td>\n",
       "      <td>599.406092</td>\n",
       "    </tr>\n",
       "    <tr>\n",
       "      <th>5</th>\n",
       "      <td>alvareznancy@lucas.biz</td>\n",
       "      <td>645 Martha Park Apt. 611Jeffreychester, MN 672...</td>\n",
       "      <td>FloralWhite</td>\n",
       "      <td>33.871038</td>\n",
       "      <td>12.026925</td>\n",
       "      <td>34.476878</td>\n",
       "      <td>5.493507</td>\n",
       "      <td>637.102448</td>\n",
       "    </tr>\n",
       "    <tr>\n",
       "      <th>6</th>\n",
       "      <td>katherine20@yahoo.com</td>\n",
       "      <td>68388 Reyes Lights Suite 692Josephbury, WV 922...</td>\n",
       "      <td>DarkSlateBlue</td>\n",
       "      <td>32.021596</td>\n",
       "      <td>11.366348</td>\n",
       "      <td>36.683776</td>\n",
       "      <td>4.685017</td>\n",
       "      <td>521.572175</td>\n",
       "    </tr>\n",
       "    <tr>\n",
       "      <th>7</th>\n",
       "      <td>awatkins@yahoo.com</td>\n",
       "      <td>Unit 6538 Box 8980DPO AP 09026-4941</td>\n",
       "      <td>Aqua</td>\n",
       "      <td>32.739143</td>\n",
       "      <td>12.351959</td>\n",
       "      <td>37.373359</td>\n",
       "      <td>4.434273</td>\n",
       "      <td>549.904146</td>\n",
       "    </tr>\n",
       "    <tr>\n",
       "      <th>8</th>\n",
       "      <td>vchurch@walter-martinez.com</td>\n",
       "      <td>860 Lee KeyWest Debra, SD 97450-0495</td>\n",
       "      <td>Salmon</td>\n",
       "      <td>33.987773</td>\n",
       "      <td>13.386235</td>\n",
       "      <td>37.534497</td>\n",
       "      <td>3.273434</td>\n",
       "      <td>570.200409</td>\n",
       "    </tr>\n",
       "    <tr>\n",
       "      <th>9</th>\n",
       "      <td>bonnie69@lin.biz</td>\n",
       "      <td>PSC 2734, Box 5255APO AA 98456-7482</td>\n",
       "      <td>Brown</td>\n",
       "      <td>31.936549</td>\n",
       "      <td>11.814128</td>\n",
       "      <td>37.145168</td>\n",
       "      <td>3.202806</td>\n",
       "      <td>427.199385</td>\n",
       "    </tr>\n",
       "    <tr>\n",
       "      <th>10</th>\n",
       "      <td>andrew06@peterson.com</td>\n",
       "      <td>26104 Alexander GrovesAlexandriaport, WY 28244...</td>\n",
       "      <td>Tomato</td>\n",
       "      <td>33.992573</td>\n",
       "      <td>13.338975</td>\n",
       "      <td>37.225806</td>\n",
       "      <td>2.482608</td>\n",
       "      <td>492.606013</td>\n",
       "    </tr>\n",
       "    <tr>\n",
       "      <th>11</th>\n",
       "      <td>ryanwerner@freeman.biz</td>\n",
       "      <td>Unit 2413 Box 0347DPO AA 07580-2652</td>\n",
       "      <td>Tomato</td>\n",
       "      <td>33.879361</td>\n",
       "      <td>11.584783</td>\n",
       "      <td>37.087926</td>\n",
       "      <td>3.713209</td>\n",
       "      <td>522.337405</td>\n",
       "    </tr>\n",
       "    <tr>\n",
       "      <th>12</th>\n",
       "      <td>knelson@gmail.com</td>\n",
       "      <td>6705 Miller Orchard Suite 186Lake Shanestad, M...</td>\n",
       "      <td>RoyalBlue</td>\n",
       "      <td>29.532429</td>\n",
       "      <td>10.961298</td>\n",
       "      <td>37.420216</td>\n",
       "      <td>4.046423</td>\n",
       "      <td>408.640351</td>\n",
       "    </tr>\n",
       "    <tr>\n",
       "      <th>13</th>\n",
       "      <td>wrightpeter@yahoo.com</td>\n",
       "      <td>05302 Dunlap FerryNew Stephaniehaven, MP 42268</td>\n",
       "      <td>Bisque</td>\n",
       "      <td>33.190334</td>\n",
       "      <td>12.959226</td>\n",
       "      <td>36.144667</td>\n",
       "      <td>3.918542</td>\n",
       "      <td>573.415867</td>\n",
       "    </tr>\n",
       "    <tr>\n",
       "      <th>14</th>\n",
       "      <td>taylormason@gmail.com</td>\n",
       "      <td>7773 Powell Springs Suite 190Samanthaland, ND ...</td>\n",
       "      <td>DarkBlue</td>\n",
       "      <td>32.387976</td>\n",
       "      <td>13.148726</td>\n",
       "      <td>36.619957</td>\n",
       "      <td>2.494544</td>\n",
       "      <td>470.452733</td>\n",
       "    </tr>\n",
       "    <tr>\n",
       "      <th>15</th>\n",
       "      <td>jstark@anderson.com</td>\n",
       "      <td>49558 Ramirez Road Suite 399Phillipstad, OH 35...</td>\n",
       "      <td>Peru</td>\n",
       "      <td>30.737720</td>\n",
       "      <td>12.636606</td>\n",
       "      <td>36.213763</td>\n",
       "      <td>3.357847</td>\n",
       "      <td>461.780742</td>\n",
       "    </tr>\n",
       "    <tr>\n",
       "      <th>16</th>\n",
       "      <td>wjennings@gmail.com</td>\n",
       "      <td>6362 Wilson MountainJohnsonfurt, GA 15169</td>\n",
       "      <td>PowderBlue</td>\n",
       "      <td>32.125387</td>\n",
       "      <td>11.733862</td>\n",
       "      <td>34.894093</td>\n",
       "      <td>3.136133</td>\n",
       "      <td>457.847696</td>\n",
       "    </tr>\n",
       "    <tr>\n",
       "      <th>17</th>\n",
       "      <td>rebecca45@hale-bauer.biz</td>\n",
       "      <td>8982 Burton RowWilsonton, PW 88606</td>\n",
       "      <td>OliveDrab</td>\n",
       "      <td>32.338899</td>\n",
       "      <td>12.013195</td>\n",
       "      <td>38.385137</td>\n",
       "      <td>2.420806</td>\n",
       "      <td>407.704548</td>\n",
       "    </tr>\n",
       "    <tr>\n",
       "      <th>18</th>\n",
       "      <td>alejandro75@hotmail.com</td>\n",
       "      <td>64475 Andre Club Apt. 795Port Dannytown, PW 63227</td>\n",
       "      <td>Cyan</td>\n",
       "      <td>32.187812</td>\n",
       "      <td>14.715388</td>\n",
       "      <td>38.244115</td>\n",
       "      <td>1.516576</td>\n",
       "      <td>452.315675</td>\n",
       "    </tr>\n",
       "    <tr>\n",
       "      <th>19</th>\n",
       "      <td>samuel46@love-west.net</td>\n",
       "      <td>544 Alexander Heights Suite 768North Johnview,...</td>\n",
       "      <td>LightSeaGreen</td>\n",
       "      <td>32.617856</td>\n",
       "      <td>13.989593</td>\n",
       "      <td>37.190504</td>\n",
       "      <td>4.064549</td>\n",
       "      <td>605.061039</td>\n",
       "    </tr>\n",
       "  </tbody>\n",
       "</table>\n",
       "</div>"
      ],
      "text/plain": [
       "                            Email  \\\n",
       "0       mstephenson@fernandez.com   \n",
       "1               hduke@hotmail.com   \n",
       "2                pallen@yahoo.com   \n",
       "3         riverarebecca@gmail.com   \n",
       "4   mstephens@davidson-herman.com   \n",
       "5          alvareznancy@lucas.biz   \n",
       "6           katherine20@yahoo.com   \n",
       "7              awatkins@yahoo.com   \n",
       "8     vchurch@walter-martinez.com   \n",
       "9                bonnie69@lin.biz   \n",
       "10          andrew06@peterson.com   \n",
       "11         ryanwerner@freeman.biz   \n",
       "12              knelson@gmail.com   \n",
       "13          wrightpeter@yahoo.com   \n",
       "14          taylormason@gmail.com   \n",
       "15            jstark@anderson.com   \n",
       "16            wjennings@gmail.com   \n",
       "17       rebecca45@hale-bauer.biz   \n",
       "18        alejandro75@hotmail.com   \n",
       "19         samuel46@love-west.net   \n",
       "\n",
       "                                              Address            Avatar  \\\n",
       "0          835 Frank TunnelWrightmouth, MI 82180-9605            Violet   \n",
       "1        4547 Archer CommonDiazchester, CA 06566-8576         DarkGreen   \n",
       "2   24645 Valerie Unions Suite 582Cobbborough, DC ...            Bisque   \n",
       "3      1414 David ThroughwayPort Jason, OH 22070-1220       SaddleBrown   \n",
       "4   14023 Rodriguez PassagePort Jacobville, PR 372...  MediumAquaMarine   \n",
       "5   645 Martha Park Apt. 611Jeffreychester, MN 672...       FloralWhite   \n",
       "6   68388 Reyes Lights Suite 692Josephbury, WV 922...     DarkSlateBlue   \n",
       "7                 Unit 6538 Box 8980DPO AP 09026-4941              Aqua   \n",
       "8                860 Lee KeyWest Debra, SD 97450-0495            Salmon   \n",
       "9                 PSC 2734, Box 5255APO AA 98456-7482             Brown   \n",
       "10  26104 Alexander GrovesAlexandriaport, WY 28244...            Tomato   \n",
       "11                Unit 2413 Box 0347DPO AA 07580-2652            Tomato   \n",
       "12  6705 Miller Orchard Suite 186Lake Shanestad, M...         RoyalBlue   \n",
       "13     05302 Dunlap FerryNew Stephaniehaven, MP 42268            Bisque   \n",
       "14  7773 Powell Springs Suite 190Samanthaland, ND ...          DarkBlue   \n",
       "15  49558 Ramirez Road Suite 399Phillipstad, OH 35...              Peru   \n",
       "16          6362 Wilson MountainJohnsonfurt, GA 15169        PowderBlue   \n",
       "17                 8982 Burton RowWilsonton, PW 88606         OliveDrab   \n",
       "18  64475 Andre Club Apt. 795Port Dannytown, PW 63227              Cyan   \n",
       "19  544 Alexander Heights Suite 768North Johnview,...     LightSeaGreen   \n",
       "\n",
       "    Avg Session Length  Time on App  Time on Website  Length of Membership  \\\n",
       "0            34.497268    12.655651        39.577668              4.082621   \n",
       "1            31.926272    11.109461        37.268959              2.664034   \n",
       "2            33.000915    11.330278        37.110597              4.104543   \n",
       "3            34.305557    13.717514        36.721283              3.120179   \n",
       "4            33.330673    12.795189        37.536653              4.446308   \n",
       "5            33.871038    12.026925        34.476878              5.493507   \n",
       "6            32.021596    11.366348        36.683776              4.685017   \n",
       "7            32.739143    12.351959        37.373359              4.434273   \n",
       "8            33.987773    13.386235        37.534497              3.273434   \n",
       "9            31.936549    11.814128        37.145168              3.202806   \n",
       "10           33.992573    13.338975        37.225806              2.482608   \n",
       "11           33.879361    11.584783        37.087926              3.713209   \n",
       "12           29.532429    10.961298        37.420216              4.046423   \n",
       "13           33.190334    12.959226        36.144667              3.918542   \n",
       "14           32.387976    13.148726        36.619957              2.494544   \n",
       "15           30.737720    12.636606        36.213763              3.357847   \n",
       "16           32.125387    11.733862        34.894093              3.136133   \n",
       "17           32.338899    12.013195        38.385137              2.420806   \n",
       "18           32.187812    14.715388        38.244115              1.516576   \n",
       "19           32.617856    13.989593        37.190504              4.064549   \n",
       "\n",
       "    Yearly Amount Spent  \n",
       "0            587.951054  \n",
       "1            392.204933  \n",
       "2            487.547505  \n",
       "3            581.852344  \n",
       "4            599.406092  \n",
       "5            637.102448  \n",
       "6            521.572175  \n",
       "7            549.904146  \n",
       "8            570.200409  \n",
       "9            427.199385  \n",
       "10           492.606013  \n",
       "11           522.337405  \n",
       "12           408.640351  \n",
       "13           573.415867  \n",
       "14           470.452733  \n",
       "15           461.780742  \n",
       "16           457.847696  \n",
       "17           407.704548  \n",
       "18           452.315675  \n",
       "19           605.061039  "
      ]
     },
     "execution_count": 488,
     "metadata": {},
     "output_type": "execute_result"
    }
   ],
   "source": [
    "df = pd.read_csv(\"./Ecommerce.csv\")\n",
    "df.head(20)"
   ]
  },
  {
   "cell_type": "markdown",
   "metadata": {},
   "source": [
    "### Get rid of non-numerical columns of the dataset"
   ]
  },
  {
   "cell_type": "code",
   "execution_count": 489,
   "metadata": {},
   "outputs": [
    {
     "data": {
      "text/html": [
       "<div>\n",
       "<style scoped>\n",
       "    .dataframe tbody tr th:only-of-type {\n",
       "        vertical-align: middle;\n",
       "    }\n",
       "\n",
       "    .dataframe tbody tr th {\n",
       "        vertical-align: top;\n",
       "    }\n",
       "\n",
       "    .dataframe thead th {\n",
       "        text-align: right;\n",
       "    }\n",
       "</style>\n",
       "<table border=\"1\" class=\"dataframe\">\n",
       "  <thead>\n",
       "    <tr style=\"text-align: right;\">\n",
       "      <th></th>\n",
       "      <th>Avg Session Length</th>\n",
       "      <th>Time on App</th>\n",
       "      <th>Time on Website</th>\n",
       "      <th>Length of Membership</th>\n",
       "      <th>Yearly Amount Spent</th>\n",
       "    </tr>\n",
       "  </thead>\n",
       "  <tbody>\n",
       "    <tr>\n",
       "      <th>0</th>\n",
       "      <td>34.497268</td>\n",
       "      <td>12.655651</td>\n",
       "      <td>39.577668</td>\n",
       "      <td>4.082621</td>\n",
       "      <td>587.951054</td>\n",
       "    </tr>\n",
       "    <tr>\n",
       "      <th>1</th>\n",
       "      <td>31.926272</td>\n",
       "      <td>11.109461</td>\n",
       "      <td>37.268959</td>\n",
       "      <td>2.664034</td>\n",
       "      <td>392.204933</td>\n",
       "    </tr>\n",
       "    <tr>\n",
       "      <th>2</th>\n",
       "      <td>33.000915</td>\n",
       "      <td>11.330278</td>\n",
       "      <td>37.110597</td>\n",
       "      <td>4.104543</td>\n",
       "      <td>487.547505</td>\n",
       "    </tr>\n",
       "    <tr>\n",
       "      <th>3</th>\n",
       "      <td>34.305557</td>\n",
       "      <td>13.717514</td>\n",
       "      <td>36.721283</td>\n",
       "      <td>3.120179</td>\n",
       "      <td>581.852344</td>\n",
       "    </tr>\n",
       "    <tr>\n",
       "      <th>4</th>\n",
       "      <td>33.330673</td>\n",
       "      <td>12.795189</td>\n",
       "      <td>37.536653</td>\n",
       "      <td>4.446308</td>\n",
       "      <td>599.406092</td>\n",
       "    </tr>\n",
       "    <tr>\n",
       "      <th>5</th>\n",
       "      <td>33.871038</td>\n",
       "      <td>12.026925</td>\n",
       "      <td>34.476878</td>\n",
       "      <td>5.493507</td>\n",
       "      <td>637.102448</td>\n",
       "    </tr>\n",
       "    <tr>\n",
       "      <th>6</th>\n",
       "      <td>32.021596</td>\n",
       "      <td>11.366348</td>\n",
       "      <td>36.683776</td>\n",
       "      <td>4.685017</td>\n",
       "      <td>521.572175</td>\n",
       "    </tr>\n",
       "    <tr>\n",
       "      <th>7</th>\n",
       "      <td>32.739143</td>\n",
       "      <td>12.351959</td>\n",
       "      <td>37.373359</td>\n",
       "      <td>4.434273</td>\n",
       "      <td>549.904146</td>\n",
       "    </tr>\n",
       "    <tr>\n",
       "      <th>8</th>\n",
       "      <td>33.987773</td>\n",
       "      <td>13.386235</td>\n",
       "      <td>37.534497</td>\n",
       "      <td>3.273434</td>\n",
       "      <td>570.200409</td>\n",
       "    </tr>\n",
       "    <tr>\n",
       "      <th>9</th>\n",
       "      <td>31.936549</td>\n",
       "      <td>11.814128</td>\n",
       "      <td>37.145168</td>\n",
       "      <td>3.202806</td>\n",
       "      <td>427.199385</td>\n",
       "    </tr>\n",
       "  </tbody>\n",
       "</table>\n",
       "</div>"
      ],
      "text/plain": [
       "   Avg Session Length  Time on App  Time on Website  Length of Membership  \\\n",
       "0           34.497268    12.655651        39.577668              4.082621   \n",
       "1           31.926272    11.109461        37.268959              2.664034   \n",
       "2           33.000915    11.330278        37.110597              4.104543   \n",
       "3           34.305557    13.717514        36.721283              3.120179   \n",
       "4           33.330673    12.795189        37.536653              4.446308   \n",
       "5           33.871038    12.026925        34.476878              5.493507   \n",
       "6           32.021596    11.366348        36.683776              4.685017   \n",
       "7           32.739143    12.351959        37.373359              4.434273   \n",
       "8           33.987773    13.386235        37.534497              3.273434   \n",
       "9           31.936549    11.814128        37.145168              3.202806   \n",
       "\n",
       "   Yearly Amount Spent  \n",
       "0           587.951054  \n",
       "1           392.204933  \n",
       "2           487.547505  \n",
       "3           581.852344  \n",
       "4           599.406092  \n",
       "5           637.102448  \n",
       "6           521.572175  \n",
       "7           549.904146  \n",
       "8           570.200409  \n",
       "9           427.199385  "
      ]
     },
     "execution_count": 489,
     "metadata": {},
     "output_type": "execute_result"
    }
   ],
   "source": [
    "df2 = df.drop(columns=[\"Email\", \"Address\" , \"Avatar\"])\n",
    "df2.head(10)"
   ]
  },
  {
   "cell_type": "markdown",
   "metadata": {},
   "source": [
    "### Use Yearly Amount Spent as your target variable. Plot the relationship of each of the numerical features with the target variable"
   ]
  },
  {
   "cell_type": "code",
   "execution_count": 490,
   "metadata": {},
   "outputs": [
    {
     "data": {
      "image/png": "[encoded data removed]",
      "text/plain": [
       "<Figure size 432x288 with 1 Axes>"
      ]
     },
     "metadata": {
      "needs_background": "light"
     },
     "output_type": "display_data"
    },
    {
     "data": {
      "image/png": "[encoded data removed]",
      "text/plain": [
       "<Figure size 432x288 with 1 Axes>"
      ]
     },
     "metadata": {
      "needs_background": "light"
     },
     "output_type": "display_data"
    },
    {
     "data": {
      "image/png": "[encoded data removed]",
      "text/plain": [
       "<Figure size 432x288 with 1 Axes>"
      ]
     },
     "metadata": {
      "needs_background": "light"
     },
     "output_type": "display_data"
    },
    {
     "data": {
      "image/png": "[encoded data removed]",
      "text/plain": [
       "<Figure size 432x288 with 1 Axes>"
      ]
     },
     "metadata": {
      "needs_background": "light"
     },
     "output_type": "display_data"
    }
   ],
   "source": [
    "import matplotlib.pyplot as plt\n",
    "\n",
    "y = df2[\"Yearly Amount Spent\"]\n",
    "\n",
    "x = df2[\"Avg Session Length\"]\n",
    "plt.scatter( x, y, color=\"blue\" )\n",
    "plt.xlabel(\"Avg Session Length\")\n",
    "plt.ylabel(\"Yearly Amount Spent\")\n",
    "plt.show()\n",
    "\n",
    "x = df2[\"Time on App\"]\n",
    "plt.scatter( x, y, color=\"blue\" )\n",
    "plt.xlabel(\"Time on App\")\n",
    "plt.ylabel(\"Yearly Amount Spent\")\n",
    "plt.show()\n",
    "\n",
    "x = df2[\"Time on Website\"]\n",
    "plt.scatter( x, y, color=\"blue\" )\n",
    "plt.xlabel(\"Time on Website\")\n",
    "plt.ylabel(\"Yearly Amount Spent\")\n",
    "plt.show()\n",
    "\n",
    "x = df2[\"Length of Membership\"]\n",
    "plt.scatter( x, y, color=\"blue\" )\n",
    "plt.xlabel(\"Length of Membership\")\n",
    "plt.ylabel(\"Yearly Amount Spent\")\n",
    "plt.show()"
   ]
  },
  {
   "cell_type": "markdown",
   "metadata": {},
   "source": [
    "### Leave only one feature that has a linear relationship with the target variable."
   ]
  },
  {
   "cell_type": "code",
   "execution_count": 491,
   "metadata": {},
   "outputs": [
    {
     "data": {
      "text/html": [
       "<div>\n",
       "<style scoped>\n",
       "    .dataframe tbody tr th:only-of-type {\n",
       "        vertical-align: middle;\n",
       "    }\n",
       "\n",
       "    .dataframe tbody tr th {\n",
       "        vertical-align: top;\n",
       "    }\n",
       "\n",
       "    .dataframe thead th {\n",
       "        text-align: right;\n",
       "    }\n",
       "</style>\n",
       "<table border=\"1\" class=\"dataframe\">\n",
       "  <thead>\n",
       "    <tr style=\"text-align: right;\">\n",
       "      <th></th>\n",
       "      <th>Length of Membership</th>\n",
       "      <th>Yearly Amount Spent</th>\n",
       "    </tr>\n",
       "  </thead>\n",
       "  <tbody>\n",
       "    <tr>\n",
       "      <th>Length of Membership</th>\n",
       "      <td>1.000000</td>\n",
       "      <td>0.809084</td>\n",
       "    </tr>\n",
       "    <tr>\n",
       "      <th>Yearly Amount Spent</th>\n",
       "      <td>0.809084</td>\n",
       "      <td>1.000000</td>\n",
       "    </tr>\n",
       "  </tbody>\n",
       "</table>\n",
       "</div>"
      ],
      "text/plain": [
       "                      Length of Membership  Yearly Amount Spent\n",
       "Length of Membership              1.000000             0.809084\n",
       "Yearly Amount Spent               0.809084             1.000000"
      ]
     },
     "execution_count": 491,
     "metadata": {},
     "output_type": "execute_result"
    }
   ],
   "source": [
    "df2[[\"Length of Membership\", \"Yearly Amount Spent\"]].corr()"
   ]
  },
  {
   "cell_type": "markdown",
   "metadata": {},
   "source": [
    "### Divide the dataset into training and test sets with the ratio 80:20."
   ]
  },
  {
   "cell_type": "code",
   "execution_count": 492,
   "metadata": {},
   "outputs": [
    {
     "name": "stdout",
     "output_type": "stream",
     "text": [
      "500 400 100\n"
     ]
    }
   ],
   "source": [
    "from sklearn.model_selection import train_test_split\n",
    "\n",
    "features = df2[[\"Length of Membership\"]]\n",
    "labels = df2[[\"Yearly Amount Spent\"]]\n",
    "xtrain, xtest, ytrain, ytest = train_test_split(features, labels ,test_size= 0.2, random_state= 42 )\n",
    "print( len( df2[\"Length of Membership\"]),  len( xtrain),  len(xtest) )"
   ]
  },
  {
   "cell_type": "markdown",
   "metadata": {},
   "source": [
    "### Use the resulting train and test sets with the next 2 functions to fit linear regression and plot the resulting regression line."
   ]
  },
  {
   "cell_type": "markdown",
   "metadata": {},
   "source": [
    "The first function is `fit_1d_linear_regression` that takes two vectors $x$ and $y$, and returns a numpy array ($\\beta_0, \\beta_1)$, where $\\beta_0$ is the intercept of the line, and $\\beta_1$ is the slope. "
   ]
  },
  {
   "cell_type": "code",
   "execution_count": 493,
   "metadata": {},
   "outputs": [],
   "source": [
    "def fit_1d_linear_regression(data_vector, response_vector):\n",
    "    \"\"\"\n",
    "    :param data_vector: A pandas series object (i.e. a column of a dataframe),\n",
    "                        where each element is a data point (x)\n",
    "    :param response_vector: A pandas series object (i.e. a column of a dataframe),\n",
    "                        where each element is label (y)\n",
    "    :return: numpy array beta of coefficients of the regression\n",
    "    \n",
    "    Note: You can avoid the intercept for simplicity \n",
    "    or include the intercept for an extra point\n",
    "    \"\"\"\n",
    "    features = data_vector\n",
    "    if 'Intercept' not in features.columns:\n",
    "        features.insert( loc=0, column=\"Intercept\", value=1)\n",
    "        \n",
    "    features_matrix = np.asarray(features).reshape(len(features),len(features.columns))\n",
    "    label_matrix    = np.asarray(response_vector ).reshape( len(response_vector), 1   )\n",
    "    \n",
    "    transpose = features_matrix.transpose()\n",
    "    betas = np.linalg.inv( np.dot(transpose, features_matrix) )\n",
    "    betas = np.dot( betas, transpose )\n",
    "    betas = np.dot( betas, label_matrix )\n",
    "    \n",
    "    return betas"
   ]
  },
  {
   "cell_type": "code",
   "execution_count": 494,
   "metadata": {},
   "outputs": [
    {
     "data": {
      "text/plain": [
       "array([[271.3521128 ],\n",
       "       [ 64.64010065]])"
      ]
     },
     "execution_count": 494,
     "metadata": {},
     "output_type": "execute_result"
    }
   ],
   "source": [
    "beta_matrix = fit_1d_linear_regression(xtrain, ytrain)\n",
    "beta_matrix"
   ]
  },
  {
   "cell_type": "markdown",
   "metadata": {},
   "source": [
    "The second function is `plot_line` function, that takes $\\beta_0, \\beta_1, x, y$ and plots a scatter plot of the data, and the line $y = \\beta_0 + \\beta_1 x$. And saves the plot in `YOURNAME.png`"
   ]
  },
  {
   "cell_type": "code",
   "execution_count": 495,
   "metadata": {},
   "outputs": [
    {
     "data": {
      "image/png": "[encoded data removed]",
      "text/plain": [
       "<Figure size 432x288 with 1 Axes>"
      ]
     },
     "metadata": {
      "needs_background": "light"
     },
     "output_type": "display_data"
    }
   ],
   "source": [
    "def plot_fitted_line(#b0,\n",
    "                     b,\n",
    "                     x,\n",
    "                     y,\n",
    "                     username: str):\n",
    "    \"\"\"\n",
    "    :param b0: Intersept of line to plot\n",
    "    Note: avoid this if you don't have an intercept in the previous function\n",
    "    :param b1: Slope of the line to plot\n",
    "    :param x: A pandas series object (i.e. a column of a dataframe),\n",
    "                        where each element is a data point (x coordinates)\n",
    "    :param y: A pandas series object (i.e. a column of a dataframe),\n",
    "                        where each element is a label (y coordinates)\n",
    "    \"\"\"\n",
    "    \n",
    "    \n",
    "    y_predict = b[0] + np.dot( x ,  b[1:] )\n",
    "    \n",
    "    plt.scatter( x, y, color=\"blue\" )\n",
    "    plt.plot(x, y_predict, color=\"red\")\n",
    "    plt.show()\n",
    "    \n",
    "    return y_predict\n",
    "    \n",
    "y_predict1 = plot_fitted_line( beta_matrix, xtest[[\"Length of Membership\"]], ytest, \"test\")"
   ]
  },
  {
   "cell_type": "markdown",
   "metadata": {},
   "source": [
    "### Plot example"
   ]
  },
  {
   "attachments": {
    "image.png": {
     "image/png": "[encoded data removed]"
    }
   },
   "cell_type": "markdown",
   "metadata": {},
   "source": [
    "![image.png](attachment:image.png)"
   ]
  },
  {
   "cell_type": "markdown",
   "metadata": {},
   "source": [
    "### Now fit the linear regression to the data containing only 1 feature using sklearn and compare the results with your own fit_1d_linear_regression function"
   ]
  },
  {
   "cell_type": "code",
   "execution_count": 496,
   "metadata": {},
   "outputs": [
    {
     "name": "stdout",
     "output_type": "stream",
     "text": [
      "64.64010065386708 271.3521128033932\n"
     ]
    },
    {
     "data": {
      "image/png": "[encoded data removed]",
      "text/plain": [
       "<Figure size 432x288 with 1 Axes>"
      ]
     },
     "metadata": {
      "needs_background": "light"
     },
     "output_type": "display_data"
    }
   ],
   "source": [
    "from sklearn import linear_model\n",
    "regr = linear_model.LinearRegression().fit(xtrain, ytrain )\n",
    "print( regr.coef_[0,1], regr.intercept_[0]  )\n",
    "\n",
    "y_predict2 = regr.intercept_ + np.dot( xtest, regr.coef_[0,1])\n",
    "plt.scatter( xtest, ytest, color=\"blue\" )\n",
    "plt.plot(xtest, y_predict2, color=\"red\")\n",
    "plt.show()\n"
   ]
  },
  {
   "cell_type": "markdown",
   "metadata": {},
   "source": [
    "### Use sklearn.metrics to calculate Mean absolute error, Mean squared error, Root mean squared error and R-squared for the results of your own function vs the sklearn regression results. Try to interprete your results."
   ]
  },
  {
   "cell_type": "code",
   "execution_count": 497,
   "metadata": {},
   "outputs": [
    {
     "name": "stdout",
     "output_type": "stream",
     "text": [
      "MAE 1>> 37.83623390033245\n",
      "MAE 2>> 37.836233900332424\n",
      "\n",
      "MSE 1>> 2162.1116327764266\n",
      "MSE 2>> 2162.1116327764244\n",
      "\n",
      "RMSE 1>> 46.498512156588696\n",
      "RMSE 2>> 46.49851215658867\n",
      "\n",
      "R-SQ 1>>0.5633624502240142\n",
      "R-SQ 2>>0.5633624502240145\n"
     ]
    }
   ],
   "source": [
    "from sklearn.metrics import  mean_squared_error, mean_absolute_error, r2_score\n",
    "print( 'MAE 1>> ' +  str( mean_absolute_error(ytest, y_predict1 ) ) )\n",
    "print( 'MAE 2>> ' +  str( mean_absolute_error(ytest, y_predict2 ) ) + '\\n' )\n",
    "\n",
    "print( 'MSE 1>> ' +  str(mean_squared_error(ytest, y_predict1 ) ) )\n",
    "print( 'MSE 2>> ' +  str(mean_squared_error(ytest, y_predict2 ) )  + '\\n')\n",
    "\n",
    "print( 'RMSE 1>> ' + str( np.sqrt( mean_squared_error(ytest, y_predict1 ) ) ) )\n",
    "print( 'RMSE 2>> ' + str( np.sqrt( mean_squared_error(ytest, y_predict2 ) ) ) + '\\n' )\n",
    "\n",
    "print( 'R-SQ 1>>' + str( r2_score(ytest, y_predict1) ) )\n",
    "print( 'R-SQ 2>>' + str( r2_score(ytest, y_predict2) ) )"
   ]
  },
  {
   "cell_type": "markdown",
   "metadata": {},
   "source": [
    "Fit linear regression to the data containing all numerical features using sklearn and use the same metrics to evaluate how good the model is."
   ]
  },
  {
   "cell_type": "code",
   "execution_count": 523,
   "metadata": {},
   "outputs": [
    {
     "data": {
      "text/html": [
       "<div>\n",
       "<style scoped>\n",
       "    .dataframe tbody tr th:only-of-type {\n",
       "        vertical-align: middle;\n",
       "    }\n",
       "\n",
       "    .dataframe tbody tr th {\n",
       "        vertical-align: top;\n",
       "    }\n",
       "\n",
       "    .dataframe thead th {\n",
       "        text-align: right;\n",
       "    }\n",
       "</style>\n",
       "<table border=\"1\" class=\"dataframe\">\n",
       "  <thead>\n",
       "    <tr style=\"text-align: right;\">\n",
       "      <th></th>\n",
       "      <th>Avg Session Length</th>\n",
       "      <th>Time on App</th>\n",
       "      <th>Time on Website</th>\n",
       "      <th>Length of Membership</th>\n",
       "      <th>Yearly Amount Spent</th>\n",
       "    </tr>\n",
       "  </thead>\n",
       "  <tbody>\n",
       "    <tr>\n",
       "      <th>Avg Session Length</th>\n",
       "      <td>1.000000</td>\n",
       "      <td>-0.027826</td>\n",
       "      <td>-0.034987</td>\n",
       "      <td>0.060247</td>\n",
       "      <td>0.355088</td>\n",
       "    </tr>\n",
       "    <tr>\n",
       "      <th>Time on App</th>\n",
       "      <td>-0.027826</td>\n",
       "      <td>1.000000</td>\n",
       "      <td>0.082388</td>\n",
       "      <td>0.029143</td>\n",
       "      <td>0.499328</td>\n",
       "    </tr>\n",
       "    <tr>\n",
       "      <th>Time on Website</th>\n",
       "      <td>-0.034987</td>\n",
       "      <td>0.082388</td>\n",
       "      <td>1.000000</td>\n",
       "      <td>-0.047582</td>\n",
       "      <td>-0.002641</td>\n",
       "    </tr>\n",
       "    <tr>\n",
       "      <th>Length of Membership</th>\n",
       "      <td>0.060247</td>\n",
       "      <td>0.029143</td>\n",
       "      <td>-0.047582</td>\n",
       "      <td>1.000000</td>\n",
       "      <td>0.809084</td>\n",
       "    </tr>\n",
       "    <tr>\n",
       "      <th>Yearly Amount Spent</th>\n",
       "      <td>0.355088</td>\n",
       "      <td>0.499328</td>\n",
       "      <td>-0.002641</td>\n",
       "      <td>0.809084</td>\n",
       "      <td>1.000000</td>\n",
       "    </tr>\n",
       "  </tbody>\n",
       "</table>\n",
       "</div>"
      ],
      "text/plain": [
       "                      Avg Session Length  Time on App  Time on Website  \\\n",
       "Avg Session Length              1.000000    -0.027826        -0.034987   \n",
       "Time on App                    -0.027826     1.000000         0.082388   \n",
       "Time on Website                -0.034987     0.082388         1.000000   \n",
       "Length of Membership            0.060247     0.029143        -0.047582   \n",
       "Yearly Amount Spent             0.355088     0.499328        -0.002641   \n",
       "\n",
       "                      Length of Membership  Yearly Amount Spent  \n",
       "Avg Session Length                0.060247             0.355088  \n",
       "Time on App                       0.029143             0.499328  \n",
       "Time on Website                  -0.047582            -0.002641  \n",
       "Length of Membership              1.000000             0.809084  \n",
       "Yearly Amount Spent               0.809084             1.000000  "
      ]
     },
     "execution_count": 523,
     "metadata": {},
     "output_type": "execute_result"
    }
   ],
   "source": [
    "df2.corr()"
   ]
  },
  {
   "cell_type": "code",
   "execution_count": 570,
   "metadata": {},
   "outputs": [
    {
     "name": "stdout",
     "output_type": "stream",
     "text": [
      "MAE >> 8.558441885315263\n",
      "\n",
      "MSE >> 109.86374118394079\n",
      "\n",
      "RMSE >> 10.481590584636512\n",
      "\n",
      "R-SQ >>0.9778130629184125\n"
     ]
    }
   ],
   "source": [
    "features = df2[df2.columns.difference(['Yearly Amount Spent'])]\n",
    "labels = df2[[\"Yearly Amount Spent\"]]\n",
    "xtrain, xtest, ytrain, ytest = train_test_split(features, labels ,test_size= 0.2, random_state= 42 )\n",
    "regr = linear_model.LinearRegression().fit(xtrain, ytrain )\n",
    "y_predict3 = regr.intercept_ + np.dot( xtest ,  regr.coef_.reshape(4,1) )\n",
    "print( 'MAE >> ' +  str( mean_absolute_error(ytest, y_predict3 ) ) + '\\n' )\n",
    "print( 'MSE >> ' +  str(mean_squared_error(ytest, y_predict3 ) )  + '\\n')\n",
    "print( 'RMSE >> ' + str( np.sqrt( mean_squared_error(ytest, y_predict3 ) ) ) + '\\n' )\n",
    "print( 'R-SQ >>' + str( r2_score(ytest, y_predict3) ) )\n",
    "\n"
   ]
  }
 ],
 "metadata": {
  "kernelspec": {
   "display_name": "Python 3",
   "language": "python",
   "name": "python3"
  },
  "language_info": {
   "codemirror_mode": {
    "name": "ipython",
    "version": 3
   },
   "file_extension": ".py",
   "mimetype": "text/x-python",
   "name": "python",
   "nbconvert_exporter": "python",
   "pygments_lexer": "ipython3",
   "version": "3.7.3"
  }
 },
 "nbformat": 4,
 "nbformat_minor": 4
}
